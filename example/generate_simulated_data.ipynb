{
 "cells": [
  {
   "cell_type": "code",
   "execution_count": 1,
   "id": "7c8dd681",
   "metadata": {
    "ExecuteTime": {
     "end_time": "2021-06-17T19:43:41.609779Z",
     "start_time": "2021-06-17T19:43:40.955604Z"
    }
   },
   "outputs": [],
   "source": [
    "import pandas as pd\n",
    "import numpy as np"
   ]
  },
  {
   "cell_type": "markdown",
   "id": "243df6a2",
   "metadata": {},
   "source": [
    "# Generating Simulated Data"
   ]
  },
  {
   "cell_type": "code",
   "execution_count": 2,
   "id": "9826866c",
   "metadata": {
    "ExecuteTime": {
     "end_time": "2021-06-17T19:43:42.537568Z",
     "start_time": "2021-06-17T19:43:41.614898Z"
    }
   },
   "outputs": [],
   "source": [
    "# read in our real data\n",
    "df = pd.read_csv(\"../data/feature_matrices/FULL_KNN.csv\")\n",
    "\n",
    "# generate an empty data frame to hold 100 simulated patients\n",
    "sim_df = pd.DataFrame(columns=df.columns, index=range(100))"
   ]
  },
  {
   "cell_type": "code",
   "execution_count": 3,
   "id": "3affe956",
   "metadata": {
    "ExecuteTime": {
     "end_time": "2021-06-17T19:43:43.095412Z",
     "start_time": "2021-06-17T19:43:42.541476Z"
    }
   },
   "outputs": [],
   "source": [
    "# find our binary columns\n",
    "binary_cols = df.loc[:, df.isin([0, 1]).all()].columns\n",
    "\n",
    "# find our integer columns\n",
    "int_cols = [(df[col] % 1 == 0).all() for col in df.columns]\n",
    "int_cols = df.columns[int_cols]"
   ]
  },
  {
   "cell_type": "code",
   "execution_count": 4,
   "id": "7abbf1a6",
   "metadata": {
    "ExecuteTime": {
     "end_time": "2021-06-17T19:43:43.695891Z",
     "start_time": "2021-06-17T19:43:43.097899Z"
    }
   },
   "outputs": [],
   "source": [
    "# iterate through our data fields\n",
    "for col in df.columns:\n",
    "\n",
    "    # if binary, draw from a random bernoulli\n",
    "    if col in binary_cols:\n",
    "        sim_df[col] = np.random.binomial(n=1, p=df[col].mean(), size=100)\n",
    "\n",
    "    # otherwise, draw from a random gaussian, \n",
    "    # but take the absolute value as none of our data should be negative\n",
    "    else:\n",
    "        sim_df[col] = np.round(abs(\n",
    "            np.random.normal(loc=df[col].mean(), scale=df[col].std(),\n",
    "                             size=100)),\n",
    "                               decimals=2)\n",
    "\n",
    "    # finally, if a count value, transform to an integer\n",
    "    if col in int_cols:\n",
    "        sim_df[col] = sim_df[col].astype(int)"
   ]
  },
  {
   "cell_type": "code",
   "execution_count": 5,
   "id": "1dcd10f3",
   "metadata": {
    "ExecuteTime": {
     "end_time": "2021-06-17T19:43:43.855400Z",
     "start_time": "2021-06-17T19:43:43.698588Z"
    }
   },
   "outputs": [
    {
     "data": {
      "text/html": [
       "<div>\n",
       "<style scoped>\n",
       "    .dataframe tbody tr th:only-of-type {\n",
       "        vertical-align: middle;\n",
       "    }\n",
       "\n",
       "    .dataframe tbody tr th {\n",
       "        vertical-align: top;\n",
       "    }\n",
       "\n",
       "    .dataframe thead th {\n",
       "        text-align: right;\n",
       "    }\n",
       "</style>\n",
       "<table border=\"1\" class=\"dataframe\">\n",
       "  <thead>\n",
       "    <tr style=\"text-align: right;\">\n",
       "      <th></th>\n",
       "      <th>PAT_DEID</th>\n",
       "      <th>DEMO_AGE_AT_DX</th>\n",
       "      <th>DEMO_DEPRESSED</th>\n",
       "      <th>DEMO_AGE_AT_CHE</th>\n",
       "      <th>DEMO_DX_TO_CHE_TIME</th>\n",
       "      <th>DEMO_GENDER_F</th>\n",
       "      <th>DEMO_breast</th>\n",
       "      <th>DEMO_gastrointestinal</th>\n",
       "      <th>DEMO_genitourinary</th>\n",
       "      <th>DEMO_gynecologic</th>\n",
       "      <th>...</th>\n",
       "      <th>LABS_UPH</th>\n",
       "      <th>LABS_URIC</th>\n",
       "      <th>LABS_VD25D3</th>\n",
       "      <th>LABS_VGGQNT</th>\n",
       "      <th>LABS_VGQNT</th>\n",
       "      <th>LABS_WBC</th>\n",
       "      <th>LABS_WBCFLD</th>\n",
       "      <th>LABS_XPTT</th>\n",
       "      <th>LABS_XSPG</th>\n",
       "      <th>LABS_XUPH</th>\n",
       "    </tr>\n",
       "  </thead>\n",
       "  <tbody>\n",
       "    <tr>\n",
       "      <th>0</th>\n",
       "      <td>1533957</td>\n",
       "      <td>57</td>\n",
       "      <td>0</td>\n",
       "      <td>62.41</td>\n",
       "      <td>362</td>\n",
       "      <td>0</td>\n",
       "      <td>1</td>\n",
       "      <td>0</td>\n",
       "      <td>0</td>\n",
       "      <td>0</td>\n",
       "      <td>...</td>\n",
       "      <td>6.42</td>\n",
       "      <td>5.51</td>\n",
       "      <td>39.37</td>\n",
       "      <td>2.03</td>\n",
       "      <td>8.58</td>\n",
       "      <td>339.58</td>\n",
       "      <td>7343.26</td>\n",
       "      <td>38.97</td>\n",
       "      <td>0.99</td>\n",
       "      <td>5.77</td>\n",
       "    </tr>\n",
       "    <tr>\n",
       "      <th>1</th>\n",
       "      <td>2380316</td>\n",
       "      <td>36</td>\n",
       "      <td>0</td>\n",
       "      <td>40.54</td>\n",
       "      <td>1679</td>\n",
       "      <td>1</td>\n",
       "      <td>1</td>\n",
       "      <td>0</td>\n",
       "      <td>0</td>\n",
       "      <td>0</td>\n",
       "      <td>...</td>\n",
       "      <td>6.01</td>\n",
       "      <td>5.54</td>\n",
       "      <td>30.39</td>\n",
       "      <td>2.39</td>\n",
       "      <td>7.29</td>\n",
       "      <td>151.09</td>\n",
       "      <td>1985.05</td>\n",
       "      <td>31.30</td>\n",
       "      <td>1.02</td>\n",
       "      <td>5.75</td>\n",
       "    </tr>\n",
       "    <tr>\n",
       "      <th>2</th>\n",
       "      <td>3020815</td>\n",
       "      <td>43</td>\n",
       "      <td>0</td>\n",
       "      <td>62.97</td>\n",
       "      <td>511</td>\n",
       "      <td>1</td>\n",
       "      <td>0</td>\n",
       "      <td>0</td>\n",
       "      <td>1</td>\n",
       "      <td>0</td>\n",
       "      <td>...</td>\n",
       "      <td>5.77</td>\n",
       "      <td>6.32</td>\n",
       "      <td>27.15</td>\n",
       "      <td>2.64</td>\n",
       "      <td>6.97</td>\n",
       "      <td>204.11</td>\n",
       "      <td>11021.23</td>\n",
       "      <td>35.46</td>\n",
       "      <td>1.01</td>\n",
       "      <td>6.01</td>\n",
       "    </tr>\n",
       "    <tr>\n",
       "      <th>3</th>\n",
       "      <td>3083237</td>\n",
       "      <td>54</td>\n",
       "      <td>0</td>\n",
       "      <td>53.86</td>\n",
       "      <td>1568</td>\n",
       "      <td>0</td>\n",
       "      <td>0</td>\n",
       "      <td>0</td>\n",
       "      <td>0</td>\n",
       "      <td>1</td>\n",
       "      <td>...</td>\n",
       "      <td>6.54</td>\n",
       "      <td>4.84</td>\n",
       "      <td>27.28</td>\n",
       "      <td>1.92</td>\n",
       "      <td>6.96</td>\n",
       "      <td>814.61</td>\n",
       "      <td>14401.12</td>\n",
       "      <td>42.03</td>\n",
       "      <td>1.00</td>\n",
       "      <td>6.15</td>\n",
       "    </tr>\n",
       "    <tr>\n",
       "      <th>4</th>\n",
       "      <td>209372</td>\n",
       "      <td>53</td>\n",
       "      <td>1</td>\n",
       "      <td>58.11</td>\n",
       "      <td>265</td>\n",
       "      <td>0</td>\n",
       "      <td>1</td>\n",
       "      <td>0</td>\n",
       "      <td>0</td>\n",
       "      <td>0</td>\n",
       "      <td>...</td>\n",
       "      <td>5.81</td>\n",
       "      <td>5.01</td>\n",
       "      <td>37.41</td>\n",
       "      <td>2.22</td>\n",
       "      <td>7.28</td>\n",
       "      <td>184.84</td>\n",
       "      <td>11311.06</td>\n",
       "      <td>38.22</td>\n",
       "      <td>1.02</td>\n",
       "      <td>6.27</td>\n",
       "    </tr>\n",
       "  </tbody>\n",
       "</table>\n",
       "<p>5 rows × 761 columns</p>\n",
       "</div>"
      ],
      "text/plain": [
       "   PAT_DEID  DEMO_AGE_AT_DX  DEMO_DEPRESSED  DEMO_AGE_AT_CHE  \\\n",
       "0   1533957              57               0            62.41   \n",
       "1   2380316              36               0            40.54   \n",
       "2   3020815              43               0            62.97   \n",
       "3   3083237              54               0            53.86   \n",
       "4    209372              53               1            58.11   \n",
       "\n",
       "   DEMO_DX_TO_CHE_TIME  DEMO_GENDER_F  DEMO_breast  DEMO_gastrointestinal  \\\n",
       "0                  362              0            1                      0   \n",
       "1                 1679              1            1                      0   \n",
       "2                  511              1            0                      0   \n",
       "3                 1568              0            0                      0   \n",
       "4                  265              0            1                      0   \n",
       "\n",
       "   DEMO_genitourinary  DEMO_gynecologic  ...  LABS_UPH  LABS_URIC  \\\n",
       "0                   0                 0  ...      6.42       5.51   \n",
       "1                   0                 0  ...      6.01       5.54   \n",
       "2                   1                 0  ...      5.77       6.32   \n",
       "3                   0                 1  ...      6.54       4.84   \n",
       "4                   0                 0  ...      5.81       5.01   \n",
       "\n",
       "   LABS_VD25D3  LABS_VGGQNT  LABS_VGQNT  LABS_WBC  LABS_WBCFLD  LABS_XPTT  \\\n",
       "0        39.37         2.03        8.58    339.58      7343.26      38.97   \n",
       "1        30.39         2.39        7.29    151.09      1985.05      31.30   \n",
       "2        27.15         2.64        6.97    204.11     11021.23      35.46   \n",
       "3        27.28         1.92        6.96    814.61     14401.12      42.03   \n",
       "4        37.41         2.22        7.28    184.84     11311.06      38.22   \n",
       "\n",
       "   LABS_XSPG  LABS_XUPH  \n",
       "0       0.99       5.77  \n",
       "1       1.02       5.75  \n",
       "2       1.01       6.01  \n",
       "3       1.00       6.15  \n",
       "4       1.02       6.27  \n",
       "\n",
       "[5 rows x 761 columns]"
      ]
     },
     "execution_count": 5,
     "metadata": {},
     "output_type": "execute_result"
    }
   ],
   "source": [
    "# save the results\n",
    "sim_df.to_csv(\"../data/simulated_data/simulated_feature_matrix.csv\",\n",
    "              index=False)\n",
    "sim_df.head()"
   ]
  },
  {
   "cell_type": "code",
   "execution_count": 6,
   "id": "c3bd33e2",
   "metadata": {
    "ExecuteTime": {
     "end_time": "2021-06-17T19:43:43.884692Z",
     "start_time": "2021-06-17T19:43:43.861436Z"
    }
   },
   "outputs": [
    {
     "data": {
      "text/html": [
       "<div>\n",
       "<style scoped>\n",
       "    .dataframe tbody tr th:only-of-type {\n",
       "        vertical-align: middle;\n",
       "    }\n",
       "\n",
       "    .dataframe tbody tr th {\n",
       "        vertical-align: top;\n",
       "    }\n",
       "\n",
       "    .dataframe thead th {\n",
       "        text-align: right;\n",
       "    }\n",
       "</style>\n",
       "<table border=\"1\" class=\"dataframe\">\n",
       "  <thead>\n",
       "    <tr style=\"text-align: right;\">\n",
       "      <th></th>\n",
       "      <th>PAT_DEID</th>\n",
       "      <th>ANY_180</th>\n",
       "    </tr>\n",
       "  </thead>\n",
       "  <tbody>\n",
       "    <tr>\n",
       "      <th>0</th>\n",
       "      <td>1533957</td>\n",
       "      <td>0</td>\n",
       "    </tr>\n",
       "    <tr>\n",
       "      <th>1</th>\n",
       "      <td>2380316</td>\n",
       "      <td>1</td>\n",
       "    </tr>\n",
       "    <tr>\n",
       "      <th>2</th>\n",
       "      <td>3020815</td>\n",
       "      <td>1</td>\n",
       "    </tr>\n",
       "    <tr>\n",
       "      <th>3</th>\n",
       "      <td>3083237</td>\n",
       "      <td>1</td>\n",
       "    </tr>\n",
       "    <tr>\n",
       "      <th>4</th>\n",
       "      <td>209372</td>\n",
       "      <td>0</td>\n",
       "    </tr>\n",
       "  </tbody>\n",
       "</table>\n",
       "</div>"
      ],
      "text/plain": [
       "   PAT_DEID  ANY_180\n",
       "0   1533957        0\n",
       "1   2380316        1\n",
       "2   3020815        1\n",
       "3   3083237        1\n",
       "4    209372        0"
      ]
     },
     "execution_count": 6,
     "metadata": {},
     "output_type": "execute_result"
    }
   ],
   "source": [
    "# generate simulated outcomes p=0.35 comes from the incidence of OP-35 events at 30 days in our cohort\n",
    "sim_outcomes = pd.DataFrame(sim_df[\"PAT_DEID\"])\n",
    "sim_outcomes[\"ANY_180\"] = np.random.binomial(n=1, p=0.35, size=100)\n",
    "\n",
    "# save the results\n",
    "sim_outcomes.to_csv(\"../data/simulated_data/simulated_outcomes.csv\",\n",
    "              index=False)\n",
    "sim_outcomes.head()"
   ]
  }
 ],
 "metadata": {
  "hide_input": false,
  "kernelspec": {
   "display_name": "Python 3",
   "language": "python",
   "name": "python3"
  },
  "language_info": {
   "codemirror_mode": {
    "name": "ipython",
    "version": 3
   },
   "file_extension": ".py",
   "mimetype": "text/x-python",
   "name": "python",
   "nbconvert_exporter": "python",
   "pygments_lexer": "ipython3",
   "version": "3.7.10"
  },
  "toc": {
   "base_numbering": 1,
   "nav_menu": {},
   "number_sections": true,
   "sideBar": true,
   "skip_h1_title": false,
   "title_cell": "Table of Contents",
   "title_sidebar": "Contents",
   "toc_cell": false,
   "toc_position": {},
   "toc_section_display": true,
   "toc_window_display": false
  },
  "varInspector": {
   "cols": {
    "lenName": 16,
    "lenType": 16,
    "lenVar": 40
   },
   "kernels_config": {
    "python": {
     "delete_cmd_postfix": "",
     "delete_cmd_prefix": "del ",
     "library": "var_list.py",
     "varRefreshCmd": "print(var_dic_list())"
    },
    "r": {
     "delete_cmd_postfix": ") ",
     "delete_cmd_prefix": "rm(",
     "library": "var_list.r",
     "varRefreshCmd": "cat(var_dic_list()) "
    }
   },
   "types_to_exclude": [
    "module",
    "function",
    "builtin_function_or_method",
    "instance",
    "_Feature"
   ],
   "window_display": false
  }
 },
 "nbformat": 4,
 "nbformat_minor": 5
}
