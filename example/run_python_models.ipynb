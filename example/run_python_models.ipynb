{
 "cells": [
  {
   "cell_type": "code",
   "execution_count": 1,
   "id": "e17016a2",
   "metadata": {
    "ExecuteTime": {
     "end_time": "2021-06-17T20:51:57.183658Z",
     "start_time": "2021-06-17T20:51:53.890686Z"
    }
   },
   "outputs": [],
   "source": [
    "import pandas as pd\n",
    "import numpy as np\n",
    "import matplotlib.pyplot as plt\n",
    "from pickle import load\n",
    "from joblib import load as jload\n",
    "from sklearn.metrics import roc_curve, auc, roc_auc_score\n",
    "\n",
    "import warnings \n",
    "warnings.filterwarnings('ignore')    "
   ]
  },
  {
   "cell_type": "markdown",
   "id": "ef21f00d",
   "metadata": {},
   "source": [
    "# Running Models on Data\n",
    "\n",
    "This notebook is for running all of the models we generated that were not in R (i.e. all models except for the LASSO models). To use the primary model reported in our paper, use `run_LASSO.r`. \n",
    "\n",
    "Here we use our simulated data generated in `generate_simulated_data.ipynb` but one could load and use their own data if they format their data to match."
   ]
  },
  {
   "cell_type": "code",
   "execution_count": 2,
   "id": "83769d76",
   "metadata": {
    "ExecuteTime": {
     "end_time": "2021-06-17T20:51:57.218667Z",
     "start_time": "2021-06-17T20:51:57.187202Z"
    }
   },
   "outputs": [],
   "source": [
    "def scale_data(X_test):    \n",
    "    \n",
    "    # checks for right data shape\n",
    "    if X_test.shape[1] != 759:\n",
    "        print(f\"Wrong number of features. Expecting 759. Got {X_test.shape[1]}.\")\n",
    "    \n",
    "    # loads the scaler trained on our data\n",
    "    with open('../utilities/scaler.pkl', 'rb') as pickle_file:\n",
    "        scaler = load(pickle_file)\n",
    "    pickle_file.close() \n",
    "    \n",
    "    # train the data\n",
    "    X_test = scaler.transform(X_test)\n",
    "    \n",
    "    return X_test\n",
    "\n",
    "def bootstrap(df, outcome):\n",
    "    # runs 1000 fold bootstrap to determine 95% confidence intervals\n",
    "    aucs = []\n",
    "    for i in range(1000):\n",
    "        sample = df.sample(n=df.shape[0] -\n",
    "                           int(df.shape[0] / 5))  #take 80% for the bootstrap\n",
    "        aucs.append(roc_auc_score(sample[outcome], sample[\"predictions\"]))\n",
    "\n",
    "    return np.percentile(np.array(aucs),50), np.percentile(np.array(aucs),\n",
    "                         2.5), np.percentile(np.array(aucs), 97.5)"
   ]
  },
  {
   "cell_type": "code",
   "execution_count": 3,
   "id": "3d2696c2",
   "metadata": {
    "ExecuteTime": {
     "end_time": "2021-06-17T20:51:57.328146Z",
     "start_time": "2021-06-17T20:51:57.229969Z"
    }
   },
   "outputs": [],
   "source": [
    "# load our data and labels (change to your own path, if using your own data)\n",
    "data_path = \"../data/simulated_data/simulated_feature_matrix.csv\"\n",
    "outcome_path = \"../data/simulated_data/simulated_outcomes.csv\"\n",
    "outcome = \"ANY_180\"\n",
    "\n",
    "data = pd.read_csv(data_path).drop(\"DEMO_NON_PALLIATIVE\",axis=1)\n",
    "outcomes = pd.read_csv(outcome_path)"
   ]
  },
  {
   "cell_type": "code",
   "execution_count": 4,
   "id": "53eddf23",
   "metadata": {
    "ExecuteTime": {
     "end_time": "2021-06-17T20:51:57.357497Z",
     "start_time": "2021-06-17T20:51:57.332910Z"
    }
   },
   "outputs": [],
   "source": [
    "# scale the data for preprocessing\n",
    "X = scale_data(data.set_index(\"PAT_DEID\"))"
   ]
  },
  {
   "cell_type": "code",
   "execution_count": 5,
   "id": "e8c11207",
   "metadata": {
    "ExecuteTime": {
     "end_time": "2021-06-17T20:51:59.069573Z",
     "start_time": "2021-06-17T20:51:57.362431Z"
    }
   },
   "outputs": [
    {
     "data": {
      "text/html": [
       "<div>\n",
       "<style scoped>\n",
       "    .dataframe tbody tr th:only-of-type {\n",
       "        vertical-align: middle;\n",
       "    }\n",
       "\n",
       "    .dataframe tbody tr th {\n",
       "        vertical-align: top;\n",
       "    }\n",
       "\n",
       "    .dataframe thead th {\n",
       "        text-align: right;\n",
       "    }\n",
       "</style>\n",
       "<table border=\"1\" class=\"dataframe\">\n",
       "  <thead>\n",
       "    <tr style=\"text-align: right;\">\n",
       "      <th></th>\n",
       "      <th>PAT_DEID</th>\n",
       "      <th>ANY_180</th>\n",
       "      <th>Class predictions</th>\n",
       "      <th>predictions</th>\n",
       "    </tr>\n",
       "  </thead>\n",
       "  <tbody>\n",
       "    <tr>\n",
       "      <th>0</th>\n",
       "      <td>1533957</td>\n",
       "      <td>0</td>\n",
       "      <td>True</td>\n",
       "      <td>0.515</td>\n",
       "    </tr>\n",
       "    <tr>\n",
       "      <th>1</th>\n",
       "      <td>2380316</td>\n",
       "      <td>1</td>\n",
       "      <td>True</td>\n",
       "      <td>0.525</td>\n",
       "    </tr>\n",
       "    <tr>\n",
       "      <th>2</th>\n",
       "      <td>3020815</td>\n",
       "      <td>1</td>\n",
       "      <td>True</td>\n",
       "      <td>0.526</td>\n",
       "    </tr>\n",
       "    <tr>\n",
       "      <th>3</th>\n",
       "      <td>3083237</td>\n",
       "      <td>1</td>\n",
       "      <td>False</td>\n",
       "      <td>0.472</td>\n",
       "    </tr>\n",
       "    <tr>\n",
       "      <th>4</th>\n",
       "      <td>209372</td>\n",
       "      <td>0</td>\n",
       "      <td>True</td>\n",
       "      <td>0.540</td>\n",
       "    </tr>\n",
       "  </tbody>\n",
       "</table>\n",
       "</div>"
      ],
      "text/plain": [
       "   PAT_DEID  ANY_180  Class predictions  predictions\n",
       "0   1533957        0               True        0.515\n",
       "1   2380316        1               True        0.525\n",
       "2   3020815        1               True        0.526\n",
       "3   3083237        1              False        0.472\n",
       "4    209372        0               True        0.540"
      ]
     },
     "execution_count": 5,
     "metadata": {},
     "output_type": "execute_result"
    }
   ],
   "source": [
    "model_path = \"../models/rf_any_180.joblib\"\n",
    "\n",
    "# loads the model trained on our data\n",
    "with open(model_path, 'rb') as pickle_file:\n",
    "    model = jload(pickle_file)\n",
    "    \n",
    "# make predictions\n",
    "predictions = model.predict(X)\n",
    "predictions_prob = model.predict_proba(X)[:,1]\n",
    "\n",
    "# add these to the simulated labels to compare\n",
    "outcomes[\"Class predictions\"] = predictions\n",
    "outcomes[\"predictions\"] = predictions_prob\n",
    "outcomes.head()"
   ]
  },
  {
   "cell_type": "code",
   "execution_count": 6,
   "id": "d8717b24",
   "metadata": {
    "ExecuteTime": {
     "end_time": "2021-06-17T20:52:00.985872Z",
     "start_time": "2021-06-17T20:51:59.074101Z"
    }
   },
   "outputs": [
    {
     "name": "stdout",
     "output_type": "stream",
     "text": [
      "AUROC is: 0.518, 95% CI: [0.457-0.578]\n"
     ]
    }
   ],
   "source": [
    "# calculate the AUROC's CIs via bootstrap\n",
    "# as expected with random data, we do not have accurate predictions\n",
    "mean, ci_low, ci_high = bootstrap(outcomes, outcome)\n",
    "print(f'AUROC is: {round(mean,3)}, 95% CI: [{round(ci_low,3)}-{round(ci_high,3)}]')"
   ]
  },
  {
   "cell_type": "code",
   "execution_count": 7,
   "id": "dde856b9",
   "metadata": {
    "ExecuteTime": {
     "end_time": "2021-06-17T20:52:02.816007Z",
     "start_time": "2021-06-17T20:52:01.000805Z"
    }
   },
   "outputs": [
    {
     "data": {
      "image/png": "[encoded data removed]",
      "text/plain": [
       "<Figure size 432x432 with 1 Axes>"
      ]
     },
     "metadata": {
      "needs_background": "light"
     },
     "output_type": "display_data"
    }
   ],
   "source": [
    "# plot the ROC curve\n",
    "base_fpr = np.linspace(0, 1, 101)\n",
    "\n",
    "## TEST ON 80% of TESTING DATA 1000x, GATHER MEAN/SD OF ROC-CURVE POINTS\n",
    "tprs = []\n",
    "aucs = []\n",
    "for i in range(1000):\n",
    "    #take 80% for the bootstrap\n",
    "    sample = outcomes.sample(n=outcomes.shape[0] -\n",
    "                       int(outcomes.shape[0] / 5))  \n",
    "    fpr, tpr, _ = roc_curve(sample[\"ANY_180\"], sample[\"predictions\"])\n",
    "    roc_auc = auc(fpr, tpr)\n",
    "    aucs.append(roc_auc)\n",
    "    tpr = np.interp(base_fpr, fpr, tpr)\n",
    "    tpr[0] = 0.0\n",
    "    tprs.append(tpr)\n",
    "\n",
    "# calculate some statistics on the curve\n",
    "tprs1 = np.array(tprs)\n",
    "mean_tprs1 = tprs1.mean(axis=0)\n",
    "std1 = tprs1.std(axis=0)\n",
    "mean_auc1 = auc(base_fpr, mean_tprs1)\n",
    "std_auc1 = np.std(aucs)\n",
    "\n",
    "# find our upper and lower CIs for plotting\n",
    "tprs_upper1 = np.minimum(mean_tprs1 + 1.96*std1, 1)\n",
    "tprs_lower1 = mean_tprs1 - 1.96*std1\n",
    "\n",
    "# plot it\n",
    "fig,axes = plt.subplots(figsize=(6,6))\n",
    "axes.plot(base_fpr, mean_tprs1, lw=2, label=r'Mean ROC (AUC = %0.4f)' % (mean_auc1), color='#00A1D5FF')\n",
    "axes.fill_between(base_fpr, tprs_lower1, tprs_upper1, alpha = 0.3,\n",
    "                  label=r\"Mean ROC Curve 95-percent CI\" % (std_auc1), color='#00A1D5FF')\n",
    "axes.plot([0, 1], [0, 1], linestyle = '--', lw = 2, color='#374E55FF', alpha= 0.8)\n",
    "axes.set_xlim([-0.01, 1.01])\n",
    "axes.set_ylim([-0.01, 1.01])\n",
    "axes.set_ylabel('True Positive Rate')\n",
    "axes.set_xlabel('False Positive Rate')\n",
    "axes.legend(loc=\"lower right\")\n",
    "axes.set_title('ROC Curve')\n",
    "\n",
    "plt.tight_layout()\n",
    "plt.show()\n",
    "plt.savefig('example.png')"
   ]
  },
  {
   "cell_type": "code",
   "execution_count": null,
   "id": "9d4c2b25",
   "metadata": {},
   "outputs": [],
   "source": []
  }
 ],
 "metadata": {
  "hide_input": false,
  "kernelspec": {
   "display_name": "Python 3",
   "language": "python",
   "name": "python3"
  },
  "language_info": {
   "codemirror_mode": {
    "name": "ipython",
    "version": 3
   },
   "file_extension": ".py",
   "mimetype": "text/x-python",
   "name": "python",
   "nbconvert_exporter": "python",
   "pygments_lexer": "ipython3",
   "version": "3.7.10"
  },
  "toc": {
   "base_numbering": 1,
   "nav_menu": {},
   "number_sections": true,
   "sideBar": true,
   "skip_h1_title": false,
   "title_cell": "Table of Contents",
   "title_sidebar": "Contents",
   "toc_cell": false,
   "toc_position": {},
   "toc_section_display": true,
   "toc_window_display": false
  },
  "varInspector": {
   "cols": {
    "lenName": 16,
    "lenType": 16,
    "lenVar": 40
   },
   "kernels_config": {
    "python": {
     "delete_cmd_postfix": "",
     "delete_cmd_prefix": "del ",
     "library": "var_list.py",
     "varRefreshCmd": "print(var_dic_list())"
    },
    "r": {
     "delete_cmd_postfix": ") ",
     "delete_cmd_prefix": "rm(",
     "library": "var_list.r",
     "varRefreshCmd": "cat(var_dic_list()) "
    }
   },
   "types_to_exclude": [
    "module",
    "function",
    "builtin_function_or_method",
    "instance",
    "_Feature"
   ],
   "window_display": false
  }
 },
 "nbformat": 4,
 "nbformat_minor": 5
}
